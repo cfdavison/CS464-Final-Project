{
  "cells": [
    {
      "cell_type": "code",
      "execution_count": 2,
      "metadata": {
        "colab": {
          "base_uri": "https://localhost:8080/"
        },
        "id": "oqmawg4NCjyN",
        "outputId": "34e5fb01-ab88-47c7-d7f1-842b0410c728"
      },
      "outputs": [
        {
          "output_type": "stream",
          "name": "stdout",
          "text": [
            "TensorFlow version: 2.9.2\n"
          ]
        }
      ],
      "source": [
        "import tensorflow as tf\n",
        "print(\"TensorFlow version:\", tf.__version__)\n",
        "from tensorflow.keras.models import Sequential\n",
        "from tensorflow.keras.layers import Dense, Conv2D, Flatten, Dropout, MaxPooling2D\n",
        "from tensorflow.keras.preprocessing.image import ImageDataGenerator\n",
        "\n",
        "import os\n",
        "import numpy as np\n",
        "import matplotlib.pyplot as plt\n"
      ]
    },
    {
      "cell_type": "code",
      "execution_count": 3,
      "metadata": {
        "colab": {
          "base_uri": "https://localhost:8080/"
        },
        "id": "8YijQ_-OC1l8",
        "outputId": "8e2040ff-7b0f-4b37-9926-b50a064b8739"
      },
      "outputs": [
        {
          "output_type": "stream",
          "name": "stdout",
          "text": [
            "Mounted at /content/gdrive\n"
          ]
        }
      ],
      "source": [
        "from google.colab import drive\n",
        "drive.mount('/content/gdrive')"
      ]
    },
    {
      "cell_type": "markdown",
      "metadata": {
        "id": "vW5SI4jKFMvJ"
      },
      "source": [
        "I've removed the Impressionism and Post-Impressionism genres due to their large wieghts in the dataset. This experiment is to see if having more evenly distributed weights will yeild higher accuracy."
      ]
    },
    {
      "cell_type": "code",
      "execution_count": null,
      "metadata": {
        "id": "t8JYVCm-C78z"
      },
      "outputs": [],
      "source": [
        "labels = ['Abstractism', 'Baroque', 'Byzantine', 'Cubism', 'Expressionism', 'High_Renaissance',\n",
        "              'Mannerism', 'Muralism', 'Northern_Renaissance', 'Pop_Art',\n",
        "              'Primitivism', 'Proto_Renaissance', 'Realism', 'Romaticism',\n",
        "             'Suprematism', 'Surrealism', 'Symbolism']"
      ]
    },
    {
      "cell_type": "code",
      "execution_count": null,
      "metadata": {
        "colab": {
          "base_uri": "https://localhost:8080/"
        },
        "id": "o8D2MDSVDgLY",
        "outputId": "13057dab-1be1-45b9-83ce-bc5c01508c15"
      },
      "outputs": [
        {
          "name": "stdout",
          "output_type": "stream",
          "text": [
            "Found 3783 images belonging to 17 classes.\n",
            "Found 1252 images belonging to 17 classes.\n",
            "Total number of batches = 378 and 125\n"
          ]
        }
      ],
      "source": [
        "batch_size = 10\n",
        "\n",
        "\n",
        "data_generator = ImageDataGenerator(validation_split=0.25,\n",
        "                                   rescale=1.0/255.0,\n",
        "                                   horizontal_flip=False,\n",
        "                                   vertical_flip=False,\n",
        "                                  )\n",
        "\n",
        "train_data = data_generator.flow_from_directory(directory='/content/gdrive/My Drive/Data/genres/',\n",
        "                                                    class_mode='categorical',\n",
        "                                                    target_size=(224, 224),\n",
        "                                                    batch_size=batch_size,\n",
        "                                                    subset=\"training\",\n",
        "                                                    shuffle=True,\n",
        "                                                    classes=labels\n",
        "                                                   )\n",
        "\n",
        "valid_data = data_generator.flow_from_directory(directory='/content/gdrive/My Drive/Data/genres/',\n",
        "                                                    class_mode='categorical',\n",
        "                                                    target_size=(224, 224),\n",
        "                                                    batch_size=batch_size,\n",
        "                                                    subset=\"validation\",\n",
        "                                                    shuffle=True,\n",
        "                                                    classes=labels\n",
        "                                                   )\n",
        "\n",
        "STEP_PER_EPOCH_TRAIN = train_data.n//train_data.batch_size\n",
        "STEP_PER_EPOCH_VALID = valid_data.n//valid_data.batch_size\n",
        "print(\"Total number of batches =\", STEP_PER_EPOCH_TRAIN, \"and\", STEP_PER_EPOCH_VALID)"
      ]
    },
    {
      "cell_type": "code",
      "execution_count": null,
      "metadata": {
        "id": "268K1X_rDquI"
      },
      "outputs": [],
      "source": [
        "from tensorflow.keras import layers, models\n",
        "\n",
        "CNN_model = models.Sequential()\n",
        "CNN_model.add(layers.RandomFlip(\"horizontal_and_vertical\"))\n",
        "CNN_model.add(layers.RandomRotation(0.3))\n",
        "CNN_model.add(layers.Conv2D(32, (3, 3), activation='relu', input_shape=(224, 224, 3)))\n",
        "CNN_model.add(layers.Dropout(0.2))\n",
        "CNN_model.add(layers.MaxPooling2D((2, 2)))\n",
        "CNN_model.add(layers.Flatten())\n",
        "CNN_model.add(layers.Dense(17, activation='softmax'))\n",
        "CNN_model.compile(optimizer='adam',\n",
        "              loss='categorical_crossentropy',\n",
        "              metrics=['accuracy'])"
      ]
    },
    {
      "cell_type": "code",
      "execution_count": null,
      "metadata": {
        "colab": {
          "base_uri": "https://localhost:8080/"
        },
        "id": "D13elGhXD4Zr",
        "outputId": "df28138f-b322-4f6e-c257-2a013131dd30"
      },
      "outputs": [
        {
          "name": "stdout",
          "output_type": "stream",
          "text": [
            "Epoch 1/5\n",
            "378/378 [==============================] - 1495s 4s/step - loss: 3.6116 - accuracy: 0.2218 - val_loss: 3.0326 - val_accuracy: 0.1773\n",
            "Epoch 2/5\n",
            "378/378 [==============================] - 292s 772ms/step - loss: 2.3096 - accuracy: 0.2966 - val_loss: 3.2639 - val_accuracy: 0.1789\n",
            "Epoch 3/5\n",
            "378/378 [==============================] - 285s 754ms/step - loss: 2.2237 - accuracy: 0.3294 - val_loss: 3.3765 - val_accuracy: 0.1869\n",
            "Epoch 4/5\n",
            "378/378 [==============================] - 293s 776ms/step - loss: 2.1924 - accuracy: 0.3342 - val_loss: 3.1171 - val_accuracy: 0.2053\n",
            "Epoch 5/5\n",
            "378/378 [==============================] - 287s 760ms/step - loss: 2.1511 - accuracy: 0.3374 - val_loss: 3.8812 - val_accuracy: 0.1558\n"
          ]
        }
      ],
      "source": [
        "history = CNN_model.fit(x=train_data, epochs=5, batch_size=10, steps_per_epoch=STEP_PER_EPOCH_TRAIN, validation_data=valid_data)"
      ]
    },
    {
      "cell_type": "markdown",
      "metadata": {
        "id": "PMelC_QHOetm"
      },
      "source": [
        "Still not seeing good validation accuracy. Trying to adjust the model for another experiment and also increasing batch size."
      ]
    },
    {
      "cell_type": "code",
      "execution_count": null,
      "metadata": {
        "colab": {
          "base_uri": "https://localhost:8080/",
          "height": 300
        },
        "id": "nsAiBe16OoMh",
        "outputId": "c0c906a1-c54e-4352-9c16-9e120f8a186d"
      },
      "outputs": [
        {
          "data": {
            "text/plain": [
              "<matplotlib.legend.Legend at 0x7fc165f575e0>"
            ]
          },
          "execution_count": 8,
          "metadata": {},
          "output_type": "execute_result"
        },
        {
          "data": {
            "image/png": "[encoded data removed]",
            "text/plain": [
              "<Figure size 432x288 with 1 Axes>"
            ]
          },
          "metadata": {},
          "output_type": "display_data"
        }
      ],
      "source": [
        "plt.plot(history.history['accuracy'], label='accuracy')\n",
        "plt.plot(history.history['val_accuracy'], label = 'val_accuracy')\n",
        "plt.xlabel('Epoch')\n",
        "plt.ylabel('Accuracy')\n",
        "plt.ylim([0.0, 0.5])\n",
        "plt.legend(loc='lower right')"
      ]
    },
    {
      "cell_type": "code",
      "execution_count": null,
      "metadata": {
        "colab": {
          "base_uri": "https://localhost:8080/"
        },
        "id": "qFDtoQ0jOrGj",
        "outputId": "0fa61109-11a5-451c-b066-b8e012bff96d"
      },
      "outputs": [
        {
          "name": "stdout",
          "output_type": "stream",
          "text": [
            "Found 3783 images belonging to 17 classes.\n",
            "Found 1252 images belonging to 17 classes.\n",
            "Total number of batches = 75 and 25\n"
          ]
        }
      ],
      "source": [
        "batch_size = 50\n",
        "\n",
        "\n",
        "data_generator = ImageDataGenerator(validation_split=0.25,\n",
        "                                   rescale=1.0/255.0,\n",
        "                                   horizontal_flip=False,\n",
        "                                   vertical_flip=False,\n",
        "                                   preprocessing_function=tf.keras.applications.vgg16.preprocess_input\n",
        "                                  )\n",
        "\n",
        "train_data = data_generator.flow_from_directory(directory='/content/gdrive/My Drive/Data/genres/',\n",
        "                                                    class_mode='categorical',\n",
        "                                                    target_size=(224, 224),\n",
        "                                                    batch_size=batch_size,\n",
        "                                                    subset=\"training\",\n",
        "                                                    shuffle=True,\n",
        "                                                    classes=labels\n",
        "                                                   )\n",
        "\n",
        "valid_data = data_generator.flow_from_directory(directory='/content/gdrive/My Drive/Data/genres/',\n",
        "                                                    class_mode='categorical',\n",
        "                                                    target_size=(224, 224),\n",
        "                                                    batch_size=batch_size,\n",
        "                                                    subset=\"validation\",\n",
        "                                                    shuffle=True,\n",
        "                                                    classes=labels\n",
        "                                                   )\n",
        "\n",
        "STEP_PER_EPOCH_TRAIN = train_data.n//train_data.batch_size\n",
        "STEP_PER_EPOCH_VALID = valid_data.n//valid_data.batch_size\n",
        "print(\"Total number of batches =\", STEP_PER_EPOCH_TRAIN, \"and\", STEP_PER_EPOCH_VALID)"
      ]
    },
    {
      "cell_type": "code",
      "execution_count": null,
      "metadata": {
        "id": "H5p6qow9O5MA"
      },
      "outputs": [],
      "source": [
        "CNN_model = models.Sequential()\n",
        "CNN_model.add(layers.RandomFlip(\"horizontal_and_vertical\"))\n",
        "CNN_model.add(layers.RandomRotation(0.3))\n",
        "CNN_model.add(layers.Conv2D(16, (3, 3), activation='relu', input_shape=(224, 224, 3)))\n",
        "CNN_model.add(layers.Dropout(0.2))\n",
        "CNN_model.add(layers.MaxPooling2D((2, 2)))\n",
        "CNN_model.add(layers.Conv2D(32, (3, 3), activation='relu'))\n",
        "CNN_model.add(layers.Dropout(0.2))\n",
        "CNN_model.add(layers.MaxPooling2D((2, 2)))\n",
        "CNN_model.add(layers.Flatten())\n",
        "CNN_model.add(layers.Dense(17, activation='softmax'))\n",
        "CNN_model.compile(optimizer='adam',\n",
        "              loss='categorical_crossentropy',\n",
        "              metrics=['accuracy'])"
      ]
    },
    {
      "cell_type": "code",
      "execution_count": null,
      "metadata": {
        "colab": {
          "background_save": true,
          "base_uri": "https://localhost:8080/"
        },
        "id": "fd2MH3rnPGJq",
        "outputId": "b5b7f93c-3bd0-42a9-fcf2-15f20f26b049"
      },
      "outputs": [
        {
          "name": "stdout",
          "output_type": "stream",
          "text": [
            "Epoch 1/5\n",
            "75/75 [==============================] - 285s 4s/step - loss: 2.4154 - accuracy: 0.2218 - val_loss: 2.5275 - val_accuracy: 0.1901\n",
            "Epoch 2/5\n",
            "75/75 [==============================] - 286s 4s/step - loss: 2.1619 - accuracy: 0.2984 - val_loss: 2.5101 - val_accuracy: 0.1853\n",
            "Epoch 3/5\n",
            "75/75 [==============================] - 296s 4s/step - loss: 2.0252 - accuracy: 0.3512 - val_loss: 2.5493 - val_accuracy: 0.1853\n",
            "Epoch 4/5\n",
            "75/75 [==============================] - 289s 4s/step - loss: 1.9650 - accuracy: 0.3678 - val_loss: 2.8093 - val_accuracy: 0.1805\n",
            "Epoch 5/5\n",
            "75/75 [==============================] - 278s 4s/step - loss: 1.8908 - accuracy: 0.3932 - val_loss: 2.6892 - val_accuracy: 0.1845\n"
          ]
        }
      ],
      "source": [
        "history = CNN_model.fit(x=train_data, epochs=5, batch_size=50, steps_per_epoch=STEP_PER_EPOCH_TRAIN, validation_data=valid_data)"
      ]
    },
    {
      "cell_type": "code",
      "execution_count": null,
      "metadata": {
        "id": "ZNGMo59UTo3o",
        "colab": {
          "base_uri": "https://localhost:8080/",
          "height": 300
        },
        "outputId": "93b37c45-c93c-4d0c-b760-93b9957e0e51"
      },
      "outputs": [
        {
          "output_type": "execute_result",
          "data": {
            "text/plain": [
              "<matplotlib.legend.Legend at 0x7fc166a65370>"
            ]
          },
          "metadata": {},
          "execution_count": 13
        },
        {
          "output_type": "display_data",
          "data": {
            "text/plain": [
              "<Figure size 432x288 with 1 Axes>"
            ],
            "image/png": "[encoded data removed]"
          },
          "metadata": {
            "needs_background": "light"
          }
        }
      ],
      "source": [
        "plt.plot(history.history['accuracy'], label='accuracy')\n",
        "plt.plot(history.history['val_accuracy'], label = 'val_accuracy')\n",
        "plt.xlabel('Epoch')\n",
        "plt.ylabel('Accuracy')\n",
        "plt.ylim([0.0, 0.5])\n",
        "plt.legend(loc='lower right')"
      ]
    },
    {
      "cell_type": "markdown",
      "metadata": {
        "id": "LwNmy4lnR4wS"
      },
      "source": [
        "Still not seeing good results, now testing with a complex CNN and doing data augmentation using the ImageDataGenerator instead of in the model."
      ]
    },
    {
      "cell_type": "code",
      "execution_count": null,
      "metadata": {
        "id": "WBhB5lS2SQg2",
        "colab": {
          "base_uri": "https://localhost:8080/"
        },
        "outputId": "fb941ca2-e0cc-4ec0-9f89-bf6a8f6e5ec0"
      },
      "outputs": [
        {
          "output_type": "stream",
          "name": "stdout",
          "text": [
            "Found 3783 images belonging to 17 classes.\n",
            "Found 1252 images belonging to 17 classes.\n",
            "Total number of batches = 75 and 25\n"
          ]
        }
      ],
      "source": [
        "batch_size = 50\n",
        "\n",
        "\n",
        "data_generator = ImageDataGenerator(validation_split=0.25,\n",
        "                                   rescale=1.0/255.0,\n",
        "                                   horizontal_flip=True,\n",
        "                                   vertical_flip=True,\n",
        "                                   preprocessing_function=tf.keras.applications.vgg16.preprocess_input\n",
        "                                  )\n",
        "\n",
        "train_data = data_generator.flow_from_directory(directory='/content/gdrive/My Drive/Data/genres/',\n",
        "                                                    class_mode='categorical',\n",
        "                                                    target_size=(224, 224),\n",
        "                                                    batch_size=batch_size,\n",
        "                                                    subset=\"training\",\n",
        "                                                    shuffle=True,\n",
        "                                                    classes=labels\n",
        "                                                   )\n",
        "\n",
        "valid_data = data_generator.flow_from_directory(directory='/content/gdrive/My Drive/Data/genres/',\n",
        "                                                    class_mode='categorical',\n",
        "                                                    target_size=(224, 224),\n",
        "                                                    batch_size=batch_size,\n",
        "                                                    subset=\"validation\",\n",
        "                                                    shuffle=False,\n",
        "                                                    classes=labels\n",
        "                                                   )\n",
        "\n",
        "STEP_PER_EPOCH_TRAIN = train_data.n//train_data.batch_size\n",
        "STEP_PER_EPOCH_VALID = valid_data.n//valid_data.batch_size\n",
        "print(\"Total number of batches =\", STEP_PER_EPOCH_TRAIN, \"and\", STEP_PER_EPOCH_VALID)"
      ]
    },
    {
      "cell_type": "code",
      "execution_count": null,
      "metadata": {
        "id": "nG0lTOucR4IZ"
      },
      "outputs": [],
      "source": [
        "CNN_model = models.Sequential()\n",
        "CNN_model.add(layers.Conv2D(32, (3, 3), activation='relu', input_shape=(224, 224, 3)))\n",
        "CNN_model.add(layers.Dropout(0.2))\n",
        "CNN_model.add(layers.MaxPooling2D((2, 2)))\n",
        "CNN_model.add(layers.Conv2D(128, (3, 3), activation='relu'))\n",
        "CNN_model.add(layers.Dropout(0.2))\n",
        "CNN_model.add(layers.MaxPooling2D((2, 2)))\n",
        "CNN_model.add(layers.Conv2D(128, (3, 3), activation='relu'))\n",
        "CNN_model.add(layers.Dropout(0.2))\n",
        "CNN_model.add(layers.MaxPooling2D((2, 2)))\n",
        "CNN_model.add(layers.Conv2D(128, (3, 3), activation='relu'))\n",
        "CNN_model.add(layers.Dropout(0.2))\n",
        "CNN_model.add(layers.Flatten())\n",
        "CNN_model.add(layers.Dense(17, activation='softmax'))\n",
        "CNN_model.compile(optimizer='adam',\n",
        "              loss='categorical_crossentropy',\n",
        "              metrics=['accuracy'])"
      ]
    },
    {
      "cell_type": "code",
      "source": [
        "history = CNN_model.fit(x=train_data, epochs=5, batch_size=50, steps_per_epoch=STEP_PER_EPOCH_TRAIN, validation_data=valid_data)"
      ],
      "metadata": {
        "colab": {
          "base_uri": "https://localhost:8080/"
        },
        "id": "qxjwkVl3V-An",
        "outputId": "0c207fce-6942-4c48-df06-75735e886646"
      },
      "execution_count": null,
      "outputs": [
        {
          "output_type": "stream",
          "name": "stdout",
          "text": [
            "Epoch 1/5\n",
            "75/75 [==============================] - 851s 11s/step - loss: 2.4448 - accuracy: 0.2060 - val_loss: 2.5032 - val_accuracy: 0.2093\n",
            "Epoch 2/5\n",
            "75/75 [==============================] - 845s 11s/step - loss: 2.1925 - accuracy: 0.2904 - val_loss: 2.4371 - val_accuracy: 0.2173\n",
            "Epoch 3/5\n",
            "75/75 [==============================] - 860s 11s/step - loss: 2.0701 - accuracy: 0.3282 - val_loss: 2.3597 - val_accuracy: 0.2300\n",
            "Epoch 4/5\n",
            "75/75 [==============================] - 849s 11s/step - loss: 2.0031 - accuracy: 0.3552 - val_loss: 2.4441 - val_accuracy: 0.2380\n",
            "Epoch 5/5\n",
            "75/75 [==============================] - 853s 11s/step - loss: 1.8591 - accuracy: 0.4064 - val_loss: 2.4932 - val_accuracy: 0.2292\n"
          ]
        }
      ]
    },
    {
      "cell_type": "code",
      "source": [
        "from tensorflow.keras import layers, models\n",
        "\n",
        "CNN_model = models.Sequential()\n",
        "CNN_model.add(layers.Conv2D(32, (3, 3), activation='relu', input_shape=(224, 224, 3)))\n",
        "CNN_model.add(layers.MaxPooling2D((2, 2)))\n",
        "CNN_model.add(layers.Conv2D(64, (3, 3), activation='relu'))\n",
        "CNN_model.add(layers.MaxPooling2D((2, 2)))\n",
        "CNN_model.add(layers.Conv2D(64, (3, 3), activation='relu'))\n",
        "CNN_model.add(layers.Dropout(0.2))\n",
        "CNN_model.add(layers.Flatten())\n",
        "CNN_model.add(layers.Dense(17, activation='softmax'))\n",
        "CNN_model.compile(optimizer='adam',\n",
        "              loss='categorical_crossentropy',\n",
        "              metrics=['accuracy'])"
      ],
      "metadata": {
        "id": "dSQqzbnx16mn"
      },
      "execution_count": null,
      "outputs": []
    },
    {
      "cell_type": "code",
      "source": [
        "history = CNN_model.fit(x=train_data, epochs=5, batch_size=50, steps_per_epoch=STEP_PER_EPOCH_TRAIN, validation_data=valid_data)"
      ],
      "metadata": {
        "colab": {
          "base_uri": "https://localhost:8080/"
        },
        "id": "sAmhKxVD2EkN",
        "outputId": "a4baeb55-c70a-43d1-c101-1fbafafeb54f"
      },
      "execution_count": null,
      "outputs": [
        {
          "output_type": "stream",
          "name": "stdout",
          "text": [
            "Epoch 1/5\n",
            "75/75 [==============================] - 1584s 21s/step - loss: 2.3518 - accuracy: 0.2416 - val_loss: 2.5324 - val_accuracy: 0.2412\n",
            "Epoch 2/5\n",
            "75/75 [==============================] - 393s 5s/step - loss: 2.0707 - accuracy: 0.3415 - val_loss: 2.4257 - val_accuracy: 0.2548\n",
            "Epoch 3/5\n",
            "75/75 [==============================] - 397s 5s/step - loss: 1.9402 - accuracy: 0.3737 - val_loss: 2.5497 - val_accuracy: 0.2260\n",
            "Epoch 4/5\n",
            "75/75 [==============================] - 390s 5s/step - loss: 1.7588 - accuracy: 0.4492 - val_loss: 2.5657 - val_accuracy: 0.2364\n",
            "Epoch 5/5\n",
            "75/75 [==============================] - 394s 5s/step - loss: 1.6002 - accuracy: 0.4980 - val_loss: 2.6820 - val_accuracy: 0.2724\n"
          ]
        }
      ]
    },
    {
      "cell_type": "code",
      "source": [
        "plt.plot(history.history['accuracy'], label='accuracy')\n",
        "plt.plot(history.history['val_accuracy'], label = 'val_accuracy')\n",
        "plt.xlabel('Epoch')\n",
        "plt.ylabel('Accuracy')\n",
        "plt.ylim([0.0, 0.5])\n",
        "plt.legend(loc='lower right')"
      ],
      "metadata": {
        "colab": {
          "base_uri": "https://localhost:8080/",
          "height": 300
        },
        "id": "diSD1umKBhK3",
        "outputId": "4830e6f1-94de-4b4a-b3d7-eef867abad71"
      },
      "execution_count": null,
      "outputs": [
        {
          "output_type": "execute_result",
          "data": {
            "text/plain": [
              "<matplotlib.legend.Legend at 0x7ff3759760a0>"
            ]
          },
          "metadata": {},
          "execution_count": 7
        },
        {
          "output_type": "display_data",
          "data": {
            "text/plain": [
              "<Figure size 432x288 with 1 Axes>"
            ],
            "image/png": "[encoded data removed]"
          },
          "metadata": {
            "needs_background": "light"
          }
        }
      ]
    },
    {
      "cell_type": "markdown",
      "source": [
        "Saw highest validation accuracy so far on the fifth epoch so training for an additional 3 epochs to see if we can continue to create higher accuracy."
      ],
      "metadata": {
        "id": "CcCIyjxyDNMb"
      }
    },
    {
      "cell_type": "code",
      "source": [
        "history = CNN_model.fit(x=train_data, epochs=3, batch_size=50, steps_per_epoch=STEP_PER_EPOCH_TRAIN, validation_data=valid_data)"
      ],
      "metadata": {
        "colab": {
          "base_uri": "https://localhost:8080/"
        },
        "id": "7HOEqVneDJ5z",
        "outputId": "09a01ee0-4e0f-4dcd-dbd7-10ea01f1544f"
      },
      "execution_count": null,
      "outputs": [
        {
          "output_type": "stream",
          "name": "stdout",
          "text": [
            "Epoch 1/3\n",
            "75/75 [==============================] - 391s 5s/step - loss: 1.4221 - accuracy: 0.5526 - val_loss: 2.8488 - val_accuracy: 0.2644\n",
            "Epoch 2/3\n",
            "75/75 [==============================] - 395s 5s/step - loss: 1.2145 - accuracy: 0.6234 - val_loss: 3.0642 - val_accuracy: 0.2708\n",
            "Epoch 3/3\n",
            "75/75 [==============================] - 388s 5s/step - loss: 1.0557 - accuracy: 0.6756 - val_loss: 3.3656 - val_accuracy: 0.2955\n"
          ]
        }
      ]
    },
    {
      "cell_type": "code",
      "source": [
        "history = CNN_model.fit(x=train_data, epochs=3, batch_size=50, steps_per_epoch=STEP_PER_EPOCH_TRAIN, validation_data=valid_data)"
      ],
      "metadata": {
        "colab": {
          "base_uri": "https://localhost:8080/"
        },
        "id": "tt6Dw6IBKof8",
        "outputId": "c2ca75ab-818e-47e2-b7d2-9eaa6a0796a5"
      },
      "execution_count": null,
      "outputs": [
        {
          "output_type": "stream",
          "name": "stdout",
          "text": [
            "Epoch 1/3\n",
            "75/75 [==============================] - 400s 5s/step - loss: 0.8682 - accuracy: 0.7439 - val_loss: 3.3836 - val_accuracy: 0.2716\n",
            "Epoch 2/3\n",
            "75/75 [==============================] - 390s 5s/step - loss: 0.7648 - accuracy: 0.7710 - val_loss: 3.5652 - val_accuracy: 0.2556\n",
            "Epoch 3/3\n",
            "75/75 [==============================] - 388s 5s/step - loss: 0.5872 - accuracy: 0.8216 - val_loss: 3.5204 - val_accuracy: 0.2915\n"
          ]
        }
      ]
    },
    {
      "cell_type": "markdown",
      "source": [
        "Added Impressionism and Post-Impressionism back in with 100 images in each to balance their weights. Now training the model with the updated data."
      ],
      "metadata": {
        "id": "nX5_X0-ctXRe"
      }
    },
    {
      "cell_type": "code",
      "source": [
        "labels = ['Abstractism', 'Baroque', 'Byzantine', 'Cubism', 'Expressionism', 'High_Renaissance',\n",
        "             'Impressionism', 'Mannerism', 'Muralism', 'Northern_Renaissance', 'Pop_Art',\n",
        "             'Post-Impressionism', 'Primitivism', 'Proto_Renaissance', 'Realism', 'Romaticism',\n",
        "             'Suprematism', 'Surrealism', 'Symbolism']"
      ],
      "metadata": {
        "id": "_pyM_q6Yti09"
      },
      "execution_count": 4,
      "outputs": []
    },
    {
      "cell_type": "code",
      "source": [
        "batch_size = 50\n",
        "\n",
        "\n",
        "data_generator = ImageDataGenerator(validation_split=0.25,\n",
        "                                   rescale=1.0/255.0,\n",
        "                                   horizontal_flip=True,\n",
        "                                   vertical_flip=True,\n",
        "                                   preprocessing_function=tf.keras.applications.vgg16.preprocess_input\n",
        "                                  )\n",
        "\n",
        "train_data = data_generator.flow_from_directory(directory='/content/gdrive/My Drive/Data/genres/',\n",
        "                                                    class_mode='categorical',\n",
        "                                                    target_size=(224, 224),\n",
        "                                                    batch_size=batch_size,\n",
        "                                                    subset=\"training\",\n",
        "                                                    shuffle=True,\n",
        "                                                    classes=labels\n",
        "                                                   )\n",
        "\n",
        "valid_data = data_generator.flow_from_directory(directory='/content/gdrive/My Drive/Data/genres/',\n",
        "                                                    class_mode='categorical',\n",
        "                                                    target_size=(224, 224),\n",
        "                                                    batch_size=batch_size,\n",
        "                                                    subset=\"validation\",\n",
        "                                                    shuffle=False,\n",
        "                                                    classes=labels\n",
        "                                                   )\n",
        "\n",
        "STEP_PER_EPOCH_TRAIN = train_data.n//train_data.batch_size\n",
        "STEP_PER_EPOCH_VALID = valid_data.n//valid_data.batch_size\n",
        "print(\"Total number of batches =\", STEP_PER_EPOCH_TRAIN, \"and\", STEP_PER_EPOCH_VALID)"
      ],
      "metadata": {
        "colab": {
          "base_uri": "https://localhost:8080/"
        },
        "id": "rWpe9l51toaW",
        "outputId": "dfd80574-4b75-4111-ab70-b80a113922e7"
      },
      "execution_count": 5,
      "outputs": [
        {
          "output_type": "stream",
          "name": "stdout",
          "text": [
            "Found 3921 images belonging to 19 classes.\n",
            "Found 1298 images belonging to 19 classes.\n",
            "Total number of batches = 78 and 25\n"
          ]
        }
      ]
    },
    {
      "cell_type": "code",
      "source": [
        "from tensorflow.keras import layers, models\n",
        "\n",
        "CNN_model = models.Sequential()\n",
        "CNN_model.add(layers.Conv2D(32, (3, 3), activation='relu', input_shape=(224, 224, 3)))\n",
        "CNN_model.add(layers.MaxPooling2D((2, 2)))\n",
        "CNN_model.add(layers.Conv2D(64, (3, 3), activation='relu'))\n",
        "CNN_model.add(layers.MaxPooling2D((2, 2)))\n",
        "CNN_model.add(layers.Conv2D(64, (3, 3), activation='relu'))\n",
        "CNN_model.add(layers.Dropout(0.2))\n",
        "CNN_model.add(layers.Flatten())\n",
        "CNN_model.add(layers.Dense(19, activation='softmax'))\n",
        "CNN_model.compile(optimizer='adam',\n",
        "              loss='categorical_crossentropy',\n",
        "              metrics=['accuracy'])"
      ],
      "metadata": {
        "id": "7XqQtukstvKs"
      },
      "execution_count": null,
      "outputs": []
    },
    {
      "cell_type": "markdown",
      "source": [
        "Training one epoch at a time to allow saving it if the accuracy increases between epochs. This will leave the most accurate model saved."
      ],
      "metadata": {
        "id": "F0KbQl54t3wU"
      }
    },
    {
      "cell_type": "code",
      "source": [
        "history = CNN_model.fit(x=train_data, epochs=1, batch_size=50, steps_per_epoch=STEP_PER_EPOCH_TRAIN, validation_data=valid_data)"
      ],
      "metadata": {
        "colab": {
          "base_uri": "https://localhost:8080/"
        },
        "id": "_dcocf02txvJ",
        "outputId": "d7499500-05f3-45a7-9a7f-41ea0d93301b"
      },
      "execution_count": null,
      "outputs": [
        {
          "output_type": "stream",
          "name": "stdout",
          "text": [
            "78/78 [==============================] - 430s 6s/step - loss: 0.4569 - accuracy: 0.8702 - val_loss: 4.2873 - val_accuracy: 0.2558\n"
          ]
        }
      ]
    },
    {
      "cell_type": "code",
      "source": [
        "CNN_model.save('/content/gdrive/My Drive/Data/models/my_model')"
      ],
      "metadata": {
        "colab": {
          "base_uri": "https://localhost:8080/"
        },
        "id": "f7FTyHXV31KG",
        "outputId": "74aeca28-bbe4-41f0-da6b-27f1a3babc22"
      },
      "execution_count": null,
      "outputs": [
        {
          "output_type": "stream",
          "name": "stderr",
          "text": [
            "WARNING:absl:Found untraced functions such as _jit_compiled_convolution_op, _jit_compiled_convolution_op, _jit_compiled_convolution_op while saving (showing 3 of 3). These functions will not be directly callable after loading.\n"
          ]
        }
      ]
    },
    {
      "cell_type": "code",
      "source": [
        "CNN_model = tf.keras.models.load_model('/content/gdrive/My Drive/Data/models/my_model')"
      ],
      "metadata": {
        "id": "cLSHr21a4kns"
      },
      "execution_count": 7,
      "outputs": []
    },
    {
      "cell_type": "markdown",
      "source": [
        "Ran the above three cells to accomplish saving the model. Final model had 28.19% accuracy after 9 epochs. Total of 13 epochs ran."
      ],
      "metadata": {
        "id": "0Q0bGptJ494A"
      }
    },
    {
      "cell_type": "code",
      "source": [
        "CNN_model.evaluate(x=valid_data, batch_size=50, steps=STEP_PER_EPOCH_VALID)"
      ],
      "metadata": {
        "colab": {
          "base_uri": "https://localhost:8080/"
        },
        "id": "pXs_umlaOHDX",
        "outputId": "6add27b3-8471-4c80-f94f-182a0099b90f"
      },
      "execution_count": null,
      "outputs": [
        {
          "output_type": "stream",
          "name": "stdout",
          "text": [
            "26/26 [==============================] - 46s 2s/step - loss: 3.3225 - accuracy: 0.2915\n"
          ]
        },
        {
          "output_type": "execute_result",
          "data": {
            "text/plain": [
              "[3.3224985599517822, 0.29153844714164734]"
            ]
          },
          "metadata": {},
          "execution_count": 33
        }
      ]
    },
    {
      "cell_type": "markdown",
      "source": [
        "Seeing 29.15% on the saved models accuracy."
      ],
      "metadata": {
        "id": "MWYMCcHoOxsa"
      }
    },
    {
      "cell_type": "code",
      "source": [
        "from sklearn.metrics import classification_report, confusion_matrix\n",
        "Y_pred = CNN_model.predict(valid_data, STEP_PER_EPOCH_VALID)\n",
        "y_pred = np.argmax(Y_pred, axis=1)\n",
        "print('Confusion Matrix')\n",
        "cm = confusion_matrix(valid_data.classes, y_pred)"
      ],
      "metadata": {
        "colab": {
          "base_uri": "https://localhost:8080/"
        },
        "id": "xCm7OfmojUSS",
        "outputId": "036199ca-eb00-4af7-f485-ca1694c39a34"
      },
      "execution_count": 11,
      "outputs": [
        {
          "output_type": "stream",
          "name": "stdout",
          "text": [
            "26/26 [==============================] - 47s 2s/step\n",
            "Confusion Matrix\n"
          ]
        }
      ]
    },
    {
      "cell_type": "code",
      "source": [
        "from sklearn.metrics import ConfusionMatrixDisplay\n",
        "disp = ConfusionMatrixDisplay(confusion_matrix=cm, display_labels=labels)\n",
        "fig, ax = plt.subplots(figsize=(25, 25))\n",
        "\n",
        "disp.plot(cmap=plt.cm.Blues, ax=ax)\n",
        "# plt.show()"
      ],
      "metadata": {
        "colab": {
          "base_uri": "https://localhost:8080/",
          "height": 1000
        },
        "id": "2hSGMlJelruD",
        "outputId": "65e0c3c8-c29f-4b0c-e7cf-607d771ea2ba"
      },
      "execution_count": 17,
      "outputs": [
        {
          "output_type": "execute_result",
          "data": {
            "text/plain": [
              "<sklearn.metrics._plot.confusion_matrix.ConfusionMatrixDisplay at 0x7f34ff41b820>"
            ]
          },
          "metadata": {},
          "execution_count": 17
        },
        {
          "output_type": "display_data",
          "data": {
            "text/plain": [
              "<Figure size 1800x1800 with 2 Axes>"
            ],
            "image/png": "[encoded data removed]"
          },
          "metadata": {
            "needs_background": "light"
          }
        }
      ]
    }
  ],
  "metadata": {
    "colab": {
      "provenance": []
    },
    "kernelspec": {
      "display_name": "Python 3",
      "name": "python3"
    },
    "language_info": {
      "name": "python"
    }
  },
  "nbformat": 4,
  "nbformat_minor": 0
}