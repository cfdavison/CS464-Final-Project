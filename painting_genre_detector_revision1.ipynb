{
  "cells": [
    {
      "cell_type": "code",
      "execution_count": 1,
      "metadata": {
        "colab": {
          "base_uri": "https://localhost:8080/"
        },
        "id": "Wt6f_hqOAcFs",
        "outputId": "f36c13b6-271c-4bdf-9447-fe09faabee9c"
      },
      "outputs": [
        {
          "output_type": "stream",
          "name": "stdout",
          "text": [
            "TensorFlow version: 2.9.2\n"
          ]
        }
      ],
      "source": [
        "import tensorflow as tf\n",
        "print(\"TensorFlow version:\", tf.__version__)"
      ]
    },
    {
      "cell_type": "code",
      "execution_count": 2,
      "metadata": {
        "id": "SjvBE2fpArKM"
      },
      "outputs": [],
      "source": [
        "from tensorflow.keras.models import Sequential\n",
        "from tensorflow.keras.layers import Dense, Conv2D, Flatten, Dropout, MaxPooling2D\n",
        "from tensorflow.keras.preprocessing.image import ImageDataGenerator\n",
        "\n",
        "import os\n",
        "import numpy as np\n",
        "import matplotlib.pyplot as plt"
      ]
    },
    {
      "cell_type": "code",
      "execution_count": 3,
      "metadata": {
        "colab": {
          "base_uri": "https://localhost:8080/"
        },
        "id": "IUTHE1CXJQiO",
        "outputId": "e17349f7-26f6-4b81-eaf4-a3e1c4a4bdeb"
      },
      "outputs": [
        {
          "output_type": "stream",
          "name": "stdout",
          "text": [
            "Mounted at /content/gdrive\n"
          ]
        }
      ],
      "source": [
        "from google.colab import drive\n",
        "drive.mount('/content/gdrive')"
      ]
    },
    {
      "cell_type": "code",
      "execution_count": 4,
      "metadata": {
        "id": "-AmCd16WOu9I"
      },
      "outputs": [],
      "source": [
        "labels = ['Abstractism', 'Baroque', 'Byzantine', 'Cubism', 'Expressionism', 'High_Renaissance',\n",
        "             'Impressionism', 'Mannerism', 'Muralism', 'Northern_Renaissance', 'Pop_Art',\n",
        "             'Post-Impressionism', 'Primitivism', 'Proto_Renaissance', 'Realism', 'Romaticism',\n",
        "             'Suprematism', 'Surrealism', 'Symbolism']"
      ]
    },
    {
      "cell_type": "code",
      "execution_count": 5,
      "metadata": {
        "colab": {
          "base_uri": "https://localhost:8080/"
        },
        "id": "dAcg5Oiaeoyr",
        "outputId": "9a105468-04cf-4d0c-c979-193d7fd27caf"
      },
      "outputs": [
        {
          "output_type": "execute_result",
          "data": {
            "text/plain": [
              "19"
            ]
          },
          "metadata": {},
          "execution_count": 5
        }
      ],
      "source": [
        "len(labels)"
      ]
    },
    {
      "cell_type": "code",
      "execution_count": 6,
      "metadata": {
        "colab": {
          "base_uri": "https://localhost:8080/"
        },
        "id": "U3g_GRiQPQ_2",
        "outputId": "ee810d3c-a8eb-4623-afb5-229938b115ff"
      },
      "outputs": [
        {
          "output_type": "stream",
          "name": "stdout",
          "text": [
            "Found 5805 images belonging to 19 classes.\n",
            "Found 1925 images belonging to 19 classes.\n",
            "Total number of batches = 580 and 192\n"
          ]
        }
      ],
      "source": [
        "batch_size = 10\n",
        "\n",
        "\n",
        "data_generator = ImageDataGenerator(validation_split=0.25,\n",
        "                                   rescale=1.0/255.0,\n",
        "                                   horizontal_flip=False,\n",
        "                                   vertical_flip=False,\n",
        "                                  )\n",
        "\n",
        "train_data = data_generator.flow_from_directory(directory='/content/gdrive/My Drive/Data/genres/',\n",
        "                                                    class_mode='categorical',\n",
        "                                                    target_size=(224, 224),\n",
        "                                                    batch_size=batch_size,\n",
        "                                                    subset=\"training\",\n",
        "                                                    shuffle=True,\n",
        "                                                    classes=labels\n",
        "                                                   )\n",
        "\n",
        "valid_data = data_generator.flow_from_directory(directory='/content/gdrive/My Drive/Data/genres/',\n",
        "                                                    class_mode='categorical',\n",
        "                                                    target_size=(224, 224),\n",
        "                                                    batch_size=batch_size,\n",
        "                                                    subset=\"validation\",\n",
        "                                                    shuffle=True,\n",
        "                                                    classes=labels\n",
        "                                                   )\n",
        "\n",
        "STEP_PER_EPOCH_TRAIN = train_data.n//train_data.batch_size\n",
        "STEP_PER_EPOCH_VALID = valid_data.n//valid_data.batch_size\n",
        "print(\"Total number of batches =\", STEP_PER_EPOCH_TRAIN, \"and\", STEP_PER_EPOCH_VALID)"
      ]
    },
    {
      "cell_type": "markdown",
      "source": [
        "Above we can see that we'll have 19 classes therefore our final Dense layer should be 19 to match it. Also we can see that using a batch size of 10 will give us 580 batches for the training data and 192 for the validation data. This is important because we will be using these numbers for the fitting."
      ],
      "metadata": {
        "id": "7L5WbJASQ0QA"
      }
    },
    {
      "cell_type": "code",
      "execution_count": null,
      "metadata": {
        "id": "K1061djIeaCh"
      },
      "outputs": [],
      "source": [
        "from tensorflow.keras import layers, models\n",
        "\n",
        "CNN_model = models.Sequential()\n",
        "CNN_model.add(layers.Conv2D(32, (3, 3), activation='relu', input_shape=(224, 224, 3)))\n",
        "CNN_model.add(layers.MaxPooling2D((2, 2)))\n",
        "CNN_model.add(layers.Conv2D(64, (3, 3), activation='relu'))\n",
        "CNN_model.add(layers.MaxPooling2D((2, 2)))\n",
        "CNN_model.add(layers.Conv2D(64, (3, 3), activation='relu'))\n",
        "CNN_model.add(layers.Dropout(0.2))\n",
        "CNN_model.add(layers.Flatten())\n",
        "CNN_model.add(layers.Dense(19, activation='softmax'))"
      ]
    },
    {
      "cell_type": "code",
      "source": [
        "CNN_model.summary()"
      ],
      "metadata": {
        "colab": {
          "base_uri": "https://localhost:8080/"
        },
        "id": "IbCMfe8EOVTJ",
        "outputId": "6cf941cb-699e-4253-cde2-dd9e842f43b9"
      },
      "execution_count": null,
      "outputs": [
        {
          "output_type": "stream",
          "name": "stdout",
          "text": [
            "Model: \"sequential\"\n",
            "_________________________________________________________________\n",
            " Layer (type)                Output Shape              Param #   \n",
            "=================================================================\n",
            " conv2d (Conv2D)             (None, 222, 222, 32)      896       \n",
            "                                                                 \n",
            " max_pooling2d (MaxPooling2D  (None, 111, 111, 32)     0         \n",
            " )                                                               \n",
            "                                                                 \n",
            " conv2d_1 (Conv2D)           (None, 109, 109, 64)      18496     \n",
            "                                                                 \n",
            " max_pooling2d_1 (MaxPooling  (None, 54, 54, 64)       0         \n",
            " 2D)                                                             \n",
            "                                                                 \n",
            " conv2d_2 (Conv2D)           (None, 52, 52, 64)        36928     \n",
            "                                                                 \n",
            " dropout (Dropout)           (None, 52, 52, 64)        0         \n",
            "                                                                 \n",
            " flatten (Flatten)           (None, 173056)            0         \n",
            "                                                                 \n",
            " dense (Dense)               (None, 19)                3288083   \n",
            "                                                                 \n",
            "=================================================================\n",
            "Total params: 3,344,403\n",
            "Trainable params: 3,344,403\n",
            "Non-trainable params: 0\n",
            "_________________________________________________________________\n"
          ]
        }
      ]
    },
    {
      "cell_type": "code",
      "execution_count": null,
      "metadata": {
        "id": "XqhPgItle1AH"
      },
      "outputs": [],
      "source": [
        "CNN_model.compile(optimizer='adam',\n",
        "              loss='categorical_crossentropy',\n",
        "              metrics=['accuracy'])"
      ]
    },
    {
      "cell_type": "code",
      "execution_count": null,
      "metadata": {
        "colab": {
          "base_uri": "https://localhost:8080/"
        },
        "id": "T4U93ed7r9KF",
        "outputId": "e1c51705-f5c1-41e1-c826-c65e1d18d811"
      },
      "outputs": [
        {
          "output_type": "stream",
          "name": "stdout",
          "text": [
            "Epoch 1/5\n",
            "580/580 [==============================] - 1351s 2s/step - loss: 2.3810 - accuracy: 0.2878\n",
            "Epoch 2/5\n",
            "580/580 [==============================] - 613s 1s/step - loss: 1.9634 - accuracy: 0.3903\n",
            "Epoch 3/5\n",
            "580/580 [==============================] - 616s 1s/step - loss: 1.3031 - accuracy: 0.5907\n",
            "Epoch 4/5\n",
            "580/580 [==============================] - 621s 1s/step - loss: 0.5278 - accuracy: 0.8361\n",
            "Epoch 5/5\n",
            "580/580 [==============================] - 615s 1s/step - loss: 0.1825 - accuracy: 0.9443\n"
          ]
        },
        {
          "output_type": "execute_result",
          "data": {
            "text/plain": [
              "<keras.callbacks.History at 0x7f033eea0e50>"
            ]
          },
          "metadata": {},
          "execution_count": 10
        }
      ],
      "source": [
        "CNN_model.fit(x=train_data, epochs=5, batch_size=10, steps_per_epoch=STEP_PER_EPOCH_TRAIN)"
      ]
    },
    {
      "cell_type": "code",
      "source": [
        "CNN_model.evaluate(x=valid_data, batch_size=10, steps=STEP_PER_EPOCH_VALID)"
      ],
      "metadata": {
        "colab": {
          "base_uri": "https://localhost:8080/"
        },
        "id": "ZhN9NA7Ge6jX",
        "outputId": "58f687b0-e095-4cd1-8009-5eaa5e577ca3"
      },
      "execution_count": null,
      "outputs": [
        {
          "output_type": "stream",
          "name": "stdout",
          "text": [
            "192/192 [==============================] - 180s 940ms/step - loss: 7.3397 - accuracy: 0.1990\n"
          ]
        },
        {
          "output_type": "execute_result",
          "data": {
            "text/plain": [
              "[7.339709758758545, 0.19895833730697632]"
            ]
          },
          "metadata": {},
          "execution_count": 12
        }
      ]
    },
    {
      "cell_type": "markdown",
      "source": [
        "Testing a new model with higher dropout and increased convolutions."
      ],
      "metadata": {
        "id": "IBWPkV6KeRJC"
      }
    },
    {
      "cell_type": "code",
      "source": [
        "from tensorflow.keras import layers, models\n",
        "\n",
        "CNN_model = models.Sequential()\n",
        "CNN_model.add(layers.Conv2D(32, (3, 3), activation='relu', input_shape=(224, 224, 3)))\n",
        "CNN_model.add(layers.Dropout(0.2))\n",
        "CNN_model.add(layers.MaxPooling2D((2, 2)))\n",
        "CNN_model.add(layers.Conv2D(128, (3, 3), activation='relu'))\n",
        "CNN_model.add(layers.Dropout(0.2))\n",
        "CNN_model.add(layers.MaxPooling2D((2, 2)))\n",
        "CNN_model.add(layers.Conv2D(128, (3, 3), activation='relu'))\n",
        "CNN_model.add(layers.Dropout(0.2))\n",
        "CNN_model.add(layers.MaxPooling2D((2, 2)))\n",
        "CNN_model.add(layers.Conv2D(128, (3, 3), activation='relu'))\n",
        "CNN_model.add(layers.Dropout(0.2))\n",
        "CNN_model.add(layers.Flatten())\n",
        "CNN_model.add(layers.Dense(19, activation='softmax'))"
      ],
      "metadata": {
        "id": "kaGirRm3ePzq"
      },
      "execution_count": 7,
      "outputs": []
    },
    {
      "cell_type": "code",
      "source": [
        "CNN_model.compile(optimizer='adam',\n",
        "              loss='categorical_crossentropy',\n",
        "              metrics=['accuracy'])"
      ],
      "metadata": {
        "id": "x0RUdO73eZ1-"
      },
      "execution_count": 8,
      "outputs": []
    },
    {
      "cell_type": "code",
      "source": [
        "CNN_model.fit(x=train_data, epochs=5, batch_size=10, steps_per_epoch=STEP_PER_EPOCH_TRAIN, validation_data=valid_data)"
      ],
      "metadata": {
        "colab": {
          "base_uri": "https://localhost:8080/"
        },
        "id": "Mo02su9QfZZs",
        "outputId": "193bb046-17a5-4902-918f-48c6d0854581"
      },
      "execution_count": 9,
      "outputs": [
        {
          "output_type": "stream",
          "name": "stdout",
          "text": [
            "Epoch 1/5\n",
            "580/580 [==============================] - 2028s 3s/step - loss: 2.4005 - accuracy: 0.2733 - val_loss: 2.4432 - val_accuracy: 0.2504\n",
            "Epoch 2/5\n",
            "580/580 [==============================] - 1358s 2s/step - loss: 2.0879 - accuracy: 0.3474 - val_loss: 2.5089 - val_accuracy: 0.2145\n",
            "Epoch 3/5\n",
            "580/580 [==============================] - 1365s 2s/step - loss: 1.8085 - accuracy: 0.4311 - val_loss: 2.6303 - val_accuracy: 0.1829\n",
            "Epoch 4/5\n",
            "580/580 [==============================] - 1349s 2s/step - loss: 1.3820 - accuracy: 0.5674 - val_loss: 2.7678 - val_accuracy: 0.2104\n",
            "Epoch 5/5\n",
            "580/580 [==============================] - 1332s 2s/step - loss: 0.8767 - accuracy: 0.7198 - val_loss: 3.1544 - val_accuracy: 0.2021\n"
          ]
        },
        {
          "output_type": "execute_result",
          "data": {
            "text/plain": [
              "<keras.callbacks.History at 0x7fd7b5813250>"
            ]
          },
          "metadata": {},
          "execution_count": 9
        }
      ]
    },
    {
      "cell_type": "markdown",
      "source": [
        "Adding data augmentation and removing hidden layers to make the model smaller for the next test."
      ],
      "metadata": {
        "id": "TA5DygRjl0Pj"
      }
    },
    {
      "cell_type": "code",
      "source": [
        "CNN_model = models.Sequential()\n",
        "CNN_model.add(layers.RandomFlip(\"horizontal_and_vertical\"))\n",
        "CNN_model.add(layers.RandomRotation(0.3))\n",
        "CNN_model.add(layers.Conv2D(32, (3, 3), activation='relu', input_shape=(224, 224, 3)))\n",
        "CNN_model.add(layers.Dropout(0.2))\n",
        "CNN_model.add(layers.MaxPooling2D((2, 2)))\n",
        "CNN_model.add(layers.Flatten())\n",
        "CNN_model.add(layers.Dense(19, activation='softmax'))\n",
        "CNN_model.compile(optimizer='adam',\n",
        "              loss='categorical_crossentropy',\n",
        "              metrics=['accuracy'])"
      ],
      "metadata": {
        "id": "8bjeuzcZh0aO"
      },
      "execution_count": 10,
      "outputs": []
    },
    {
      "cell_type": "code",
      "source": [
        "CNN_model.fit(x=train_data, epochs=5, batch_size=10, steps_per_epoch=STEP_PER_EPOCH_TRAIN, validation_data=valid_data)"
      ],
      "metadata": {
        "colab": {
          "base_uri": "https://localhost:8080/"
        },
        "id": "ULNYS0fxiVdE",
        "outputId": "f5d11b7f-6e93-4b21-bf74-860cbd913950"
      },
      "execution_count": 11,
      "outputs": [
        {
          "output_type": "stream",
          "name": "stdout",
          "text": [
            "Epoch 1/5\n",
            "580/580 [==============================] - 458s 788ms/step - loss: 3.3557 - accuracy: 0.2468 - val_loss: 2.9343 - val_accuracy: 0.1574\n",
            "Epoch 2/5\n",
            "580/580 [==============================] - 454s 782ms/step - loss: 2.4379 - accuracy: 0.3034 - val_loss: 3.1350 - val_accuracy: 0.1709\n",
            "Epoch 3/5\n",
            "580/580 [==============================] - 452s 779ms/step - loss: 2.3282 - accuracy: 0.3175 - val_loss: 3.0188 - val_accuracy: 0.1958\n",
            "Epoch 4/5\n",
            "580/580 [==============================] - 458s 790ms/step - loss: 2.2845 - accuracy: 0.3199 - val_loss: 3.3072 - val_accuracy: 0.2073\n",
            "Epoch 5/5\n",
            "580/580 [==============================] - 475s 819ms/step - loss: 2.2535 - accuracy: 0.3232 - val_loss: 3.0733 - val_accuracy: 0.2099\n"
          ]
        },
        {
          "output_type": "execute_result",
          "data": {
            "text/plain": [
              "<keras.callbacks.History at 0x7fd7ad4d6350>"
            ]
          },
          "metadata": {},
          "execution_count": 11
        }
      ]
    },
    {
      "cell_type": "markdown",
      "source": [
        "It appears that the simpler model is performing better on the validation data so I will train it for an additional 3 epochs to see if it continues to improve."
      ],
      "metadata": {
        "id": "jBtyq820Gw9c"
      }
    },
    {
      "cell_type": "code",
      "source": [
        "CNN_model.fit(x=train_data, epochs=3, batch_size=10, steps_per_epoch=STEP_PER_EPOCH_TRAIN, validation_data=valid_data)"
      ],
      "metadata": {
        "colab": {
          "base_uri": "https://localhost:8080/"
        },
        "id": "ToMSGpbcG92R",
        "outputId": "0cbe45fb-8305-41e6-b76d-7a00c7e1fd9b"
      },
      "execution_count": 12,
      "outputs": [
        {
          "output_type": "stream",
          "name": "stdout",
          "text": [
            "Epoch 1/3\n",
            "580/580 [==============================] - 462s 796ms/step - loss: 2.2222 - accuracy: 0.3362 - val_loss: 3.5662 - val_accuracy: 0.2281\n",
            "Epoch 2/3\n",
            "580/580 [==============================] - 456s 786ms/step - loss: 2.1932 - accuracy: 0.3346 - val_loss: 3.7761 - val_accuracy: 0.1616\n",
            "Epoch 3/3\n",
            "580/580 [==============================] - 467s 805ms/step - loss: 2.1743 - accuracy: 0.3415 - val_loss: 3.1917 - val_accuracy: 0.1938\n"
          ]
        },
        {
          "output_type": "execute_result",
          "data": {
            "text/plain": [
              "<keras.callbacks.History at 0x7fd7ad738810>"
            ]
          },
          "metadata": {},
          "execution_count": 12
        }
      ]
    }
  ],
  "metadata": {
    "colab": {
      "provenance": []
    },
    "kernelspec": {
      "display_name": "Python 3",
      "name": "python3"
    },
    "language_info": {
      "name": "python"
    },
    "gpuClass": "standard"
  },
  "nbformat": 4,
  "nbformat_minor": 0
}