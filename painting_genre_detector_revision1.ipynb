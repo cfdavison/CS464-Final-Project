{
  "cells": [
    {
      "cell_type": "code",
      "execution_count": 2,
      "metadata": {
        "colab": {
          "base_uri": "https://localhost:8080/"
        },
        "id": "Wt6f_hqOAcFs",
        "outputId": "65a57e72-9d47-4189-8882-7452d51c8a4d"
      },
      "outputs": [
        {
          "output_type": "stream",
          "name": "stdout",
          "text": [
            "TensorFlow version: 2.9.2\n"
          ]
        }
      ],
      "source": [
        "import tensorflow as tf\n",
        "print(\"TensorFlow version:\", tf.__version__)"
      ]
    },
    {
      "cell_type": "code",
      "execution_count": 1,
      "metadata": {
        "id": "SjvBE2fpArKM"
      },
      "outputs": [],
      "source": [
        "from tensorflow.keras.models import Sequential\n",
        "from tensorflow.keras.layers import Dense, Conv2D, Flatten, Dropout, MaxPooling2D\n",
        "from tensorflow.keras.preprocessing.image import ImageDataGenerator\n",
        "\n",
        "import os\n",
        "import numpy as np\n",
        "import matplotlib.pyplot as plt"
      ]
    },
    {
      "cell_type": "code",
      "execution_count": 3,
      "metadata": {
        "colab": {
          "base_uri": "https://localhost:8080/"
        },
        "id": "IUTHE1CXJQiO",
        "outputId": "493e4be5-08d4-4f12-f321-ea83f9d5ac4e"
      },
      "outputs": [
        {
          "output_type": "stream",
          "name": "stdout",
          "text": [
            "Mounted at /content/gdrive\n"
          ]
        }
      ],
      "source": [
        "from google.colab import drive\n",
        "drive.mount('/content/gdrive')"
      ]
    },
    {
      "cell_type": "code",
      "execution_count": 4,
      "metadata": {
        "id": "-AmCd16WOu9I"
      },
      "outputs": [],
      "source": [
        "labels = ['Abstractism', 'Baroque', 'Byzantine', 'Cubism', 'Expressionism', 'High_Renaissance',\n",
        "             'Impressionism', 'Mannerism', 'Muralism', 'Northern_Renaissance', 'Pop_Art',\n",
        "             'Post-Impressionism', 'Primitivism', 'Proto_Renaissance', 'Realism', 'Romaticism',\n",
        "             'Suprematism', 'Surrealism', 'Symbolism']"
      ]
    },
    {
      "cell_type": "code",
      "execution_count": 14,
      "metadata": {
        "colab": {
          "base_uri": "https://localhost:8080/"
        },
        "id": "dAcg5Oiaeoyr",
        "outputId": "57a83616-ab84-49bc-fab1-5672eba342f4"
      },
      "outputs": [
        {
          "output_type": "execute_result",
          "data": {
            "text/plain": [
              "19"
            ]
          },
          "metadata": {},
          "execution_count": 14
        }
      ],
      "source": [
        "len(labels)"
      ]
    },
    {
      "cell_type": "code",
      "execution_count": 5,
      "metadata": {
        "colab": {
          "base_uri": "https://localhost:8080/"
        },
        "id": "U3g_GRiQPQ_2",
        "outputId": "bb349134-55a8-4bbd-d7cd-40025da21c79"
      },
      "outputs": [
        {
          "output_type": "stream",
          "name": "stdout",
          "text": [
            "Found 5805 images belonging to 19 classes.\n",
            "Found 1925 images belonging to 19 classes.\n",
            "Total number of batches = 580 and 192\n"
          ]
        }
      ],
      "source": [
        "batch_size = 10\n",
        "\n",
        "\n",
        "data_generator = ImageDataGenerator(validation_split=0.25,\n",
        "                                   rescale=1.0/255.0,\n",
        "                                   horizontal_flip=False,\n",
        "                                   vertical_flip=False,\n",
        "                                  )\n",
        "\n",
        "train_data = data_generator.flow_from_directory(directory='/content/gdrive/My Drive/Data/genres/',\n",
        "                                                    class_mode='categorical',\n",
        "                                                    target_size=(224, 224),\n",
        "                                                    batch_size=batch_size,\n",
        "                                                    subset=\"training\",\n",
        "                                                    shuffle=True,\n",
        "                                                    classes=labels\n",
        "                                                   )\n",
        "\n",
        "valid_data = data_generator.flow_from_directory(directory='/content/gdrive/My Drive/Data/genres/',\n",
        "                                                    class_mode='categorical',\n",
        "                                                    target_size=(224, 224),\n",
        "                                                    batch_size=batch_size,\n",
        "                                                    subset=\"validation\",\n",
        "                                                    shuffle=True,\n",
        "                                                    classes=labels\n",
        "                                                   )\n",
        "\n",
        "STEP_PER_EPOCH_TRAIN = train_data.n//train_data.batch_size\n",
        "STEP_PER_EPOCH_VALID = valid_data.n//valid_data.batch_size\n",
        "print(\"Total number of batches =\", STEP_PER_EPOCH_TRAIN, \"and\", STEP_PER_EPOCH_VALID)"
      ]
    },
    {
      "cell_type": "markdown",
      "source": [
        "Above we can see that we'll have 19 classes therefore our final Dense layer should be 19 to match it. Also we can see that using a batch size of 10 will give us 580 batches for the training data and 192 for the validation data. This is important because we will be using these numbers for the fitting."
      ],
      "metadata": {
        "id": "7L5WbJASQ0QA"
      }
    },
    {
      "cell_type": "code",
      "execution_count": 5,
      "metadata": {
        "id": "K1061djIeaCh"
      },
      "outputs": [],
      "source": [
        "from tensorflow.keras import layers, models\n",
        "\n",
        "CNN_model = models.Sequential()\n",
        "CNN_model.add(layers.Conv2D(32, (3, 3), activation='relu', input_shape=(224, 224, 3)))\n",
        "CNN_model.add(layers.MaxPooling2D((2, 2)))\n",
        "CNN_model.add(layers.Conv2D(64, (3, 3), activation='relu'))\n",
        "CNN_model.add(layers.MaxPooling2D((2, 2)))\n",
        "CNN_model.add(layers.Conv2D(64, (3, 3), activation='relu'))\n",
        "CNN_model.add(layers.Dropout(0.2))\n",
        "CNN_model.add(layers.Flatten())\n",
        "CNN_model.add(layers.Dense(19, activation='softmax'))"
      ]
    },
    {
      "cell_type": "code",
      "source": [
        "CNN_model.summary()"
      ],
      "metadata": {
        "colab": {
          "base_uri": "https://localhost:8080/"
        },
        "id": "IbCMfe8EOVTJ",
        "outputId": "6cf941cb-699e-4253-cde2-dd9e842f43b9"
      },
      "execution_count": 6,
      "outputs": [
        {
          "output_type": "stream",
          "name": "stdout",
          "text": [
            "Model: \"sequential\"\n",
            "_________________________________________________________________\n",
            " Layer (type)                Output Shape              Param #   \n",
            "=================================================================\n",
            " conv2d (Conv2D)             (None, 222, 222, 32)      896       \n",
            "                                                                 \n",
            " max_pooling2d (MaxPooling2D  (None, 111, 111, 32)     0         \n",
            " )                                                               \n",
            "                                                                 \n",
            " conv2d_1 (Conv2D)           (None, 109, 109, 64)      18496     \n",
            "                                                                 \n",
            " max_pooling2d_1 (MaxPooling  (None, 54, 54, 64)       0         \n",
            " 2D)                                                             \n",
            "                                                                 \n",
            " conv2d_2 (Conv2D)           (None, 52, 52, 64)        36928     \n",
            "                                                                 \n",
            " dropout (Dropout)           (None, 52, 52, 64)        0         \n",
            "                                                                 \n",
            " flatten (Flatten)           (None, 173056)            0         \n",
            "                                                                 \n",
            " dense (Dense)               (None, 19)                3288083   \n",
            "                                                                 \n",
            "=================================================================\n",
            "Total params: 3,344,403\n",
            "Trainable params: 3,344,403\n",
            "Non-trainable params: 0\n",
            "_________________________________________________________________\n"
          ]
        }
      ]
    },
    {
      "cell_type": "code",
      "execution_count": 9,
      "metadata": {
        "id": "XqhPgItle1AH"
      },
      "outputs": [],
      "source": [
        "CNN_model.compile(optimizer='adam',\n",
        "              loss='categorical_crossentropy',\n",
        "              metrics=['accuracy'])"
      ]
    },
    {
      "cell_type": "code",
      "execution_count": 10,
      "metadata": {
        "colab": {
          "base_uri": "https://localhost:8080/"
        },
        "id": "T4U93ed7r9KF",
        "outputId": "e1c51705-f5c1-41e1-c826-c65e1d18d811"
      },
      "outputs": [
        {
          "output_type": "stream",
          "name": "stdout",
          "text": [
            "Epoch 1/5\n",
            "580/580 [==============================] - 1351s 2s/step - loss: 2.3810 - accuracy: 0.2878\n",
            "Epoch 2/5\n",
            "580/580 [==============================] - 613s 1s/step - loss: 1.9634 - accuracy: 0.3903\n",
            "Epoch 3/5\n",
            "580/580 [==============================] - 616s 1s/step - loss: 1.3031 - accuracy: 0.5907\n",
            "Epoch 4/5\n",
            "580/580 [==============================] - 621s 1s/step - loss: 0.5278 - accuracy: 0.8361\n",
            "Epoch 5/5\n",
            "580/580 [==============================] - 615s 1s/step - loss: 0.1825 - accuracy: 0.9443\n"
          ]
        },
        {
          "output_type": "execute_result",
          "data": {
            "text/plain": [
              "<keras.callbacks.History at 0x7f033eea0e50>"
            ]
          },
          "metadata": {},
          "execution_count": 10
        }
      ],
      "source": [
        "CNN_model.fit(x=train_data, epochs=5, batch_size=10, steps_per_epoch=STEP_PER_EPOCH_TRAIN)"
      ]
    },
    {
      "cell_type": "code",
      "source": [
        "CNN_model.evaluate(x=valid_data, batch_size=10, steps=STEP_PER_EPOCH_VALID)"
      ],
      "metadata": {
        "colab": {
          "base_uri": "https://localhost:8080/"
        },
        "id": "ZhN9NA7Ge6jX",
        "outputId": "58f687b0-e095-4cd1-8009-5eaa5e577ca3"
      },
      "execution_count": 12,
      "outputs": [
        {
          "output_type": "stream",
          "name": "stdout",
          "text": [
            "192/192 [==============================] - 180s 940ms/step - loss: 7.3397 - accuracy: 0.1990\n"
          ]
        },
        {
          "output_type": "execute_result",
          "data": {
            "text/plain": [
              "[7.339709758758545, 0.19895833730697632]"
            ]
          },
          "metadata": {},
          "execution_count": 12
        }
      ]
    }
  ],
  "metadata": {
    "colab": {
      "provenance": []
    },
    "kernelspec": {
      "display_name": "Python 3",
      "name": "python3"
    },
    "language_info": {
      "name": "python"
    }
  },
  "nbformat": 4,
  "nbformat_minor": 0
}